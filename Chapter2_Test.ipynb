{
  "nbformat": 4,
  "nbformat_minor": 0,
  "metadata": {
    "colab": {
      "provenance": [],
      "authorship_tag": "ABX9TyO12+e6HTtIBHRaSlNlTv+R"
    },
    "kernelspec": {
      "name": "python3",
      "display_name": "Python 3"
    },
    "language_info": {
      "name": "python"
    }
  },
  "cells": [
    {
      "cell_type": "code",
      "execution_count": 1,
      "metadata": {
        "id": "Amyut_YGkXrj"
      },
      "outputs": [],
      "source": [
        "import numpy as np"
      ]
    },
    {
      "cell_type": "markdown",
      "source": [
        "Arrays are the basic object for manipulating numbers in python"
      ],
      "metadata": {
        "id": "Xx2zbWaflXaU"
      }
    },
    {
      "cell_type": "code",
      "source": [
        "x = np.array([1, 2, 3])\n",
        "y = np.array([4, 5, 6])\n",
        "\n",
        "x + y"
      ],
      "metadata": {
        "colab": {
          "base_uri": "https://localhost:8080/"
        },
        "id": "isWuj1UWlDjw",
        "outputId": "a5265ecc-739a-47c8-84cc-613d84166698"
      },
      "execution_count": 2,
      "outputs": [
        {
          "output_type": "execute_result",
          "data": {
            "text/plain": [
              "array([5, 7, 9])"
            ]
          },
          "metadata": {},
          "execution_count": 2
        }
      ]
    },
    {
      "cell_type": "markdown",
      "source": [
        "Attributes of the np objects can tell us more about each thang. Let's explore:"
      ],
      "metadata": {
        "id": "NmRu8pMylp_M"
      }
    },
    {
      "cell_type": "code",
      "source": [
        "x.ndim #dimensions"
      ],
      "metadata": {
        "colab": {
          "base_uri": "https://localhost:8080/"
        },
        "id": "j5i_RjuGlwc0",
        "outputId": "acf870bf-e93c-422f-f3e0-f0046f98de90"
      },
      "execution_count": 7,
      "outputs": [
        {
          "output_type": "execute_result",
          "data": {
            "text/plain": [
              "1"
            ]
          },
          "metadata": {},
          "execution_count": 7
        }
      ]
    },
    {
      "cell_type": "code",
      "source": [
        "x.dtype #Type stored in array"
      ],
      "metadata": {
        "colab": {
          "base_uri": "https://localhost:8080/"
        },
        "id": "Peljau-Wl89n",
        "outputId": "0b058836-a878-4ac6-9d3e-7f5b8912a9fe"
      },
      "execution_count": 8,
      "outputs": [
        {
          "output_type": "execute_result",
          "data": {
            "text/plain": [
              "dtype('int64')"
            ]
          },
          "metadata": {},
          "execution_count": 8
        }
      ]
    },
    {
      "cell_type": "code",
      "source": [
        "x.shape"
      ],
      "metadata": {
        "colab": {
          "base_uri": "https://localhost:8080/"
        },
        "id": "8lwmoZYJmELt",
        "outputId": "77643b1f-f175-447e-efec-ea00c4e58604"
      },
      "execution_count": 9,
      "outputs": [
        {
          "output_type": "execute_result",
          "data": {
            "text/plain": [
              "(3,)"
            ]
          },
          "metadata": {},
          "execution_count": 9
        }
      ]
    },
    {
      "cell_type": "markdown",
      "source": [
        "Python also has some helpful premade methods for all it's objects"
      ],
      "metadata": {
        "id": "yWMPX_v_mJeb"
      }
    },
    {
      "cell_type": "code",
      "source": [
        "x.sum #This seems to not actually get the value"
      ],
      "metadata": {
        "colab": {
          "base_uri": "https://localhost:8080/"
        },
        "id": "q2sB6p3qmVWE",
        "outputId": "e7e8aead-eec3-4d30-b3dd-da336a781974"
      },
      "execution_count": 13,
      "outputs": [
        {
          "output_type": "execute_result",
          "data": {
            "text/plain": [
              "<function ndarray.sum>"
            ]
          },
          "metadata": {},
          "execution_count": 13
        }
      ]
    },
    {
      "cell_type": "code",
      "source": [
        "x.sum() #The brackets are important"
      ],
      "metadata": {
        "colab": {
          "base_uri": "https://localhost:8080/"
        },
        "id": "RtmvIoTwmNrh",
        "outputId": "25a56fd4-24f7-4182-a081-9c641c97fbb7"
      },
      "execution_count": 14,
      "outputs": [
        {
          "output_type": "execute_result",
          "data": {
            "text/plain": [
              "6"
            ]
          },
          "metadata": {},
          "execution_count": 14
        }
      ]
    },
    {
      "cell_type": "code",
      "source": [
        "np.sum(x) #Another approach can just be using a basic np function with\n",
        "          # the array as a parameter"
      ],
      "metadata": {
        "colab": {
          "base_uri": "https://localhost:8080/"
        },
        "id": "r6DyGb4VmeY6",
        "outputId": "0199aef3-3841-49ac-af77-039691d5b6ee"
      },
      "execution_count": 15,
      "outputs": [
        {
          "output_type": "execute_result",
          "data": {
            "text/plain": [
              "6"
            ]
          },
          "metadata": {},
          "execution_count": 15
        }
      ]
    },
    {
      "cell_type": "markdown",
      "source": [
        "Python uses reference instead of value. So, if we use something like \".reshape\" it will change the data stored at the original memory location instead of making a copy of the data to modify."
      ],
      "metadata": {
        "id": "6IBr38pGmov0"
      }
    },
    {
      "cell_type": "code",
      "source": [],
      "metadata": {
        "id": "hMYkoKAfnH1V"
      },
      "execution_count": null,
      "outputs": []
    }
  ]
}